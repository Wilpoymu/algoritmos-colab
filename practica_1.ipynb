{
 "cells": [
  {
   "cell_type": "code",
   "execution_count": 3,
   "metadata": {},
   "outputs": [],
   "source": [
    "import pandas as pd\n",
    "import numpy as np\n",
    "import matplotlib.pyplot as plt"
   ]
  },
  {
   "cell_type": "code",
   "execution_count": null,
   "metadata": {},
   "outputs": [],
   "source": [
    "vector = np.array([1, 2, 3, 4, 5, 6, 7, 8, 9, 10])\n",
    "print(vector)\n",
    "print(len(vector))\n",
    "vector[3] = 1\n",
    "print(vector)\n",
    "\n",
    "for valor in vector:\n",
    "    print(valor)"
   ]
  },
  {
   "cell_type": "code",
   "execution_count": 6,
   "metadata": {},
   "outputs": [
    {
     "name": "stdout",
     "output_type": "stream",
     "text": [
      "ndarray.shape: devuelve la dimensión de una matriz (número de filas y columnas). (10,)\n",
      "ndarray.ndim: devuelve el número de dimensiones de la matriz. 1\n",
      "ndarray.size: devuelve el número total de elementos de la matriz. 10\n",
      "ndarray.dtype: devuelve el tipo de datos de los elementos de la matriz. int64\n",
      "ndarray.itemsize: devuelve el tamaño en bytes de los elementos de la matriz. 8\n",
      "ndarray.data: devuelve un búfer que contiene los elementos actuales de la matriz. <memory at 0x11da98100>\n"
     ]
    }
   ],
   "source": [
    "print(\"ndarray.shape: devuelve la dimensión de una matriz (número de filas y columnas).\", vector.shape)\n",
    "print(\"ndarray.ndim: devuelve el número de dimensiones de la matriz.\", vector.ndim)\n",
    "print(\"ndarray.size: devuelve el número total de elementos de la matriz.\", vector.size)\n",
    "print(\"ndarray.dtype: devuelve el tipo de datos de los elementos de la matriz.\", vector.dtype)\n",
    "print(\"ndarray.itemsize: devuelve el tamaño en bytes de los elementos de la matriz.\", vector.itemsize)\n",
    "print(\"ndarray.data: devuelve un búfer que contiene los elementos actuales de la matriz.\", vector.data)\n"
   ]
  },
  {
   "cell_type": "code",
   "execution_count": null,
   "metadata": {},
   "outputs": [],
   "source": [
    "# Métodos:\n",
    "# np.array(): crea una matriz a partir de una secuencia de datos.\n",
    "# np.zeros(): crea una matriz de ceros con una forma específica.\n",
    "# np.ones(): crea una matriz de unos con una forma específica.\n",
    "# np.full(): crea una matriz con un valor constante con una forma específica.\n",
    "# ndarray.reshape(): cambia la forma de una matriz.\n",
    "# ndarray.transpose(): transpone una matriz.\n",
    "# ndarray.flatten(): convierte una matriz en un array de una dimensión.\n",
    "# ndarray.max(): devuelve el valor máximo de una matriz.\n",
    "# ndarray.min(): devuelve el valor mínimo de una matriz.\n",
    "# ndarray.sum(): devuelve la suma de los elementos de una matriz.\n",
    "# ndarray.mean(): devuelve la media de los elementos de una matriz.\n",
    "# ndarray.std(): devuelve la desviación estándar de los elementos de una matriz.\n",
    "# np.dot(): realiza la multiplicación matricial entre dos matrices.\n",
    "# np.random.rand(): genera una matriz de números aleatorios entre 0 y 1.\n",
    "\n",
    "print()"
   ]
  },
  {
   "cell_type": "code",
   "execution_count": 9,
   "metadata": {},
   "outputs": [
    {
     "name": "stdout",
     "output_type": "stream",
     "text": [
      "[[1 1 1 1]\n",
      " [2 2 2 2]\n",
      " [3 3 3 3]\n",
      " [4 4 4 4]]\n",
      "4\n",
      "[4 4 4 4]\n",
      "(4, 4)\n"
     ]
    }
   ],
   "source": [
    "matriz = np.array(([1, 1, 1, 1], [2, 2, 2, 2], [3, 3, 3, 3], [4, 4, 4, 4]))\n",
    "print(matriz)\n",
    "print(len(matriz))\n",
    "print(matriz[3])\n",
    "print(matriz.shape)"
   ]
  },
  {
   "cell_type": "code",
   "execution_count": null,
   "metadata": {},
   "outputs": [
    {
     "name": "stdout",
     "output_type": "stream",
     "text": [
      "[[ True  True  True]\n",
      " [ True  True  True]\n",
      " [ True  True  True]]\n",
      "[ 0 -1  2 -1  4 -1  6 -1  8 -1]\n"
     ]
    }
   ],
   "source": [
    "# Ejercicios Numpy\n",
    "# Crear un arreglo 3x3 de numpy con todas las entradas igual a True\n",
    "\n",
    "def ejercicio1():\n",
    "    matriz = np.ones((3, 3), dtype=bool)\n",
    "    print(matriz)\n",
    "    \n",
    "ejercicio1()\n"
   ]
  },
  {
   "cell_type": "code",
   "execution_count": 11,
   "metadata": {},
   "outputs": [
    {
     "name": "stdout",
     "output_type": "stream",
     "text": [
      "[ 0 -1  2 -1  4 -1  6 -1  8 -1]\n"
     ]
    }
   ],
   "source": [
    "# Reemplazar todos los numeros impares del sigueinte arreglo por el valor de -1. arr = np.array([0, 1, 2, 3, 4, 5, 6, 7, 8, 9])\n",
    "\n",
    "def ejercicio2():\n",
    "    arr = np.array([0, 1, 2, 3, 4, 5, 6, 7, 8, 9])\n",
    "    arr[arr % 2 == 1] = -1\n",
    "    print(arr)\n",
    "    \n",
    "ejercicio2()"
   ]
  },
  {
   "cell_type": "code",
   "execution_count": 8,
   "metadata": {},
   "outputs": [
    {
     "name": "stdout",
     "output_type": "stream",
     "text": [
      "[[0 1 2 3 4]\n",
      " [5 6 7 8 9]]\n"
     ]
    }
   ],
   "source": [
    "# Convertir el Siguiente arreglo 1D a un arreglo 2D. arr = np.array([ 0, 1, 2, 3, 4, 5, 6, 7, 8, 9])\n",
    "\n",
    "def ejercicio3():\n",
    "    arr = np.array([0, 1, 2, 3, 4, 5, 6, 7, 8, 9])\n",
    "    arr = arr.reshape(2, -1)\n",
    "    print(arr)\n",
    "    \n",
    "ejercicio3()"
   ]
  }
 ],
 "metadata": {
  "kernelspec": {
   "display_name": "venv",
   "language": "python",
   "name": "python3"
  },
  "language_info": {
   "codemirror_mode": {
    "name": "ipython",
    "version": 3
   },
   "file_extension": ".py",
   "mimetype": "text/x-python",
   "name": "python",
   "nbconvert_exporter": "python",
   "pygments_lexer": "ipython3",
   "version": "3.10.1"
  }
 },
 "nbformat": 4,
 "nbformat_minor": 2
}
