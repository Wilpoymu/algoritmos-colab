{
 "cells": [
  {
   "cell_type": "markdown",
   "metadata": {},
   "source": [
    "# Extracción de datos"
   ]
  },
  {
   "cell_type": "markdown",
   "metadata": {},
   "source": [
    "## Excel"
   ]
  },
  {
   "cell_type": "code",
   "execution_count": 1,
   "metadata": {},
   "outputs": [],
   "source": [
    "import PyPDF2\n",
    "import openpyxl"
   ]
  },
  {
   "cell_type": "code",
   "execution_count": 2,
   "metadata": {},
   "outputs": [],
   "source": [
    "wb = openpyxl.Workbook()"
   ]
  },
  {
   "cell_type": "code",
   "execution_count": 3,
   "metadata": {},
   "outputs": [],
   "source": [
    "ws = wb.active"
   ]
  },
  {
   "cell_type": "code",
   "execution_count": 4,
   "metadata": {},
   "outputs": [],
   "source": [
    "ws['A1'] = 'Documento'\n",
    "ws['B1'] = 'Nombre'\n",
    "ws['C1'] = 'Apellidos'\n",
    "ws['D1'] = 'Área de residencia'\n",
    "ws['E1'] = 'Tipo colegio'\n",
    "ws['F1'] = 'Género'\n",
    "ws['G1'] = 'Estrato'\n",
    "ws['H1'] = 'Nota Matemáticas'\n",
    "ws['I1'] = 'Nota Lecto Escritura'\n",
    "ws['J1'] = 'Apoyo económico de padres'\n",
    "ws['K1'] = 'Último grado cursado'"
   ]
  },
  {
   "cell_type": "code",
   "execution_count": 5,
   "metadata": {},
   "outputs": [],
   "source": [
    "with open('./data/Datosaprendices.pdf', 'rb') as pdf_file:\n",
    "    pdf_reader = PyPDF2.PdfReader(pdf_file)\n",
    "    num_paginas = len(pdf_reader.pages)\n",
    "    for pagina in range(num_paginas):\n",
    "        page = pdf_reader.pages[pagina]\n",
    "        text = page.extract_text()   \n",
    "        matriz = text.split()\n",
    "        \n",
    "        row = ws.max_row + 1\n",
    "\n",
    "        for i in range(len(matriz)):\n",
    "            if \"Documento\" in matriz[i]:\n",
    "                documento = matriz[i+1]\n",
    "                ws.cell(row=row, column=1, value=documento)\n",
    "            \n",
    "            if \"Nombre\" in matriz[i]:\n",
    "                nombre = matriz[i+1]\n",
    "                ws.cell(row=row, column=2, value=nombre)\n",
    "            \n",
    "            if \"Apellidos\" in matriz[i]:\n",
    "                apellidos = matriz[i+1]\n",
    "                ws.cell(row=row, column=3, value=apellidos)\n",
    "            \n",
    "            if \"residencia\" in matriz[i]:\n",
    "                area = matriz[i+1]\n",
    "                ws.cell(row=row, column=4, value=area)\n",
    "            \n",
    "            if \"colegio\" in matriz[i]:\n",
    "                colegio = matriz[i+1]\n",
    "                ws.cell(row=row, column=5, value=colegio)\n",
    "            \n",
    "            if \"Género\" in matriz[i]:\n",
    "                genero = matriz[i+1]\n",
    "                ws.cell(row=row, column=6, value=genero)\n",
    "            \n",
    "            if \"Estrato\" in matriz[i]:\n",
    "                estrato = matriz[i+1]\n",
    "                ws.cell(row=row, column=7, value=estrato)\n",
    "            \n",
    "            if \"Matemáticas\" in matriz[i]:\n",
    "                matematicas = matriz[i+1]\n",
    "                ws.cell(row=row, column=8, value=matematicas)\n",
    "            \n",
    "            if \"Escritura\" in matriz[i]:\n",
    "                lecto = matriz[i+1]\n",
    "                ws.cell(row=row, column=9, value=lecto)\n",
    "            \n",
    "            if \"padres\" in matriz[i]:\n",
    "                padres = matriz[i+1]\n",
    "                ws.cell(row=row, column=10, value=padres)\n",
    "            \n",
    "            if \"cursad\" in matriz[i]:\n",
    "                grado = matriz[i+2]\n",
    "                ws.cell(row=row, column=11, value=grado)   "
   ]
  },
  {
   "cell_type": "code",
   "execution_count": 6,
   "metadata": {},
   "outputs": [],
   "source": [
    "wb.save('./data/datos_pdf.xlsx') "
   ]
  },
  {
   "cell_type": "markdown",
   "metadata": {},
   "source": [
    "## Web"
   ]
  },
  {
   "cell_type": "code",
   "execution_count": 9,
   "metadata": {},
   "outputs": [],
   "source": [
    "import requests\n",
    "import pandas as pd\n",
    "from bs4 import BeautifulSoup"
   ]
  },
  {
   "cell_type": "code",
   "execution_count": 11,
   "metadata": {},
   "outputs": [],
   "source": [
    "url = \"https://ingdanielbs.github.io/Datos/\"\n",
    "response = requests.get(url)"
   ]
  },
  {
   "cell_type": "code",
   "execution_count": 12,
   "metadata": {},
   "outputs": [],
   "source": [
    "soup = BeautifulSoup(response.content, 'html.parser')"
   ]
  },
  {
   "cell_type": "code",
   "execution_count": 13,
   "metadata": {},
   "outputs": [],
   "source": [
    "table = soup.find(\"table\")"
   ]
  },
  {
   "cell_type": "code",
   "execution_count": 15,
   "metadata": {},
   "outputs": [],
   "source": [
    "\n",
    "if table is not None:\n",
    "    rows = table.find_all(\"tr\")\n",
    "    # Resto del código aquí\n",
    "    data = []\n",
    "    for row in rows:\n",
    "        cols = row.find_all(\"td\")\n",
    "        cols = [col.text.strip() for col in cols]\n",
    "        data.append(cols)\n",
    "\n",
    "    # Convertir los datos en un DataFrame de Pandas\n",
    "    df = pd.DataFrame(data, columns=[\"Documento\", \"Nombre\", \"Apellidos\", \"Direccción\", \"Teléfono\", \"Edad\", \"Estatura\"])\n",
    "\n",
    "    # Escribir el DataFrame en un archivo de Excel\n",
    "    df.to_excel(\"./data/datos_web.xlsx\", index=False)\n",
    "else:\n",
    "    print(\"La tabla no fue encontrada\")\n"
   ]
  },
  {
   "cell_type": "code",
   "execution_count": 19,
   "metadata": {},
   "outputs": [],
   "source": [
    "# Cargar los datos de ambos archivos\n",
    "datos = pd.read_excel('./data/datos_web.xlsx')\n",
    "datos_pdf = pd.read_excel('./data/datos_pdf.xlsx')\n",
    "\n",
    "# Unir los datos basados en la columna \"Documento\", especificando qué columnas incluir\n",
    "datos_unidos = pd.merge(datos, datos_pdf[['Documento', 'Área de residencia', 'Tipo colegio', 'Género', 'Estrato', 'Nota Matemáticas', 'Nota Lecto Escritura', 'Apoyo económico de padres', 'Último grado cursado']], on='Documento')\n",
    "\n",
    "# Guardar los datos unidos en un nuevo archivo de Excel\n",
    "datos_unidos.to_excel('./data/Dataset_final.xlsx', index=False)"
   ]
  },
  {
   "cell_type": "code",
   "execution_count": null,
   "metadata": {},
   "outputs": [],
   "source": []
  }
 ],
 "metadata": {
  "kernelspec": {
   "display_name": "venv",
   "language": "python",
   "name": "python3"
  },
  "language_info": {
   "codemirror_mode": {
    "name": "ipython",
    "version": 3
   },
   "file_extension": ".py",
   "mimetype": "text/x-python",
   "name": "python",
   "nbconvert_exporter": "python",
   "pygments_lexer": "ipython3",
   "version": "3.10.1"
  }
 },
 "nbformat": 4,
 "nbformat_minor": 2
}
