{
  "nbformat": 4,
  "nbformat_minor": 0,
  "metadata": {
    "colab": {
      "provenance": [],
      "authorship_tag": "ABX9TyNla+F7f2FP/0cpAe90RFOT",
      "include_colab_link": true
    },
    "kernelspec": {
      "name": "python3",
      "display_name": "Python 3"
    },
    "language_info": {
      "name": "python"
    }
  },
  "cells": [
    {
      "cell_type": "markdown",
      "metadata": {
        "id": "view-in-github",
        "colab_type": "text"
      },
      "source": [
        "<a href=\"https://colab.research.google.com/github/Wilpoymu/algoritmos-colab/blob/master/actividad_1.ipynb\" target=\"_parent\"><img src=\"https://colab.research.google.com/assets/colab-badge.svg\" alt=\"Open In Colab\"/></a>"
      ]
    },
    {
      "cell_type": "markdown",
      "source": [
        "# Actividad 1"
      ],
      "metadata": {
        "id": "4YL3Cre4bpqs"
      }
    },
    {
      "cell_type": "code",
      "execution_count": null,
      "metadata": {
        "colab": {
          "base_uri": "https://localhost:8080/"
        },
        "id": "B73KqQ0EWV2Q",
        "outputId": "09232745-8383-44e0-ad07-a85d63c4a93c"
      },
      "outputs": [
        {
          "output_type": "stream",
          "name": "stdout",
          "text": [
            "Ingrese la velocidad del automóvil en m/s: 100\n",
            "Ingrese el tiempo en segundos: 23\n",
            "La distancia recorrida por el automóvil es:  2300.0 m\n"
          ]
        }
      ],
      "source": [
        "# Se desea calcular la distancia recorrida (D) por un automóvil que tiene velocidad constante (m/s) durante un tiempo T (Sg), considerar que es un MRU (Movimiento Rectilíneo Uniforme). Tenga en cuenta que la formula del movimiento rectilíneo es:\n",
        "# D = V * T\n",
        "\n",
        "def traveled_distance(speed, time):\n",
        "    return speed * time\n",
        "\n",
        "speed = float(input(\"Ingrese la velocidad del automóvil en m/s: \"))\n",
        "time = float(input(\"Ingrese el tiempo en segundos: \"))\n",
        "print(\"La distancia recorrida por el automóvil es: \", traveled_distance(speed, time), \"m\")\n"
      ]
    },
    {
      "cell_type": "code",
      "source": [
        "# Se necesita obtener el promedio de un estudiante a partir de sus tres notas parciales. El estudiante debe digitar sus tres notas y el sistema deberá darle el promedio del semestre.\n",
        "\n",
        "def average_grade(grade1, grade2, grade3):\n",
        "    return (grade1 + grade2 + grade3) / 3\n",
        "\n",
        "grade1 = float(input(\"Ingrese la primera nota: \"))\n",
        "grade2 = float(input(\"Ingrese la segunda nota: \"))\n",
        "grade3 = float(input(\"Ingrese la tercera nota: \"))\n",
        "print(\"El promedio de las notas es: \", round(average_grade(grade1, grade2, grade3), 2))"
      ],
      "metadata": {
        "colab": {
          "base_uri": "https://localhost:8080/"
        },
        "id": "EAwfFyiwWg8q",
        "outputId": "b9010ea0-3c16-41d4-ee29-9b5c0e29c120"
      },
      "execution_count": null,
      "outputs": [
        {
          "output_type": "stream",
          "name": "stdout",
          "text": [
            "Ingrese la primera nota: 4.5\n",
            "Ingrese la segunda nota: 5\n",
            "Ingrese la tercera nota: 4\n",
            "El promedio de las notas es:  4.5\n"
          ]
        }
      ]
    },
    {
      "cell_type": "code",
      "source": [
        "# Elaborar un algoritmo que permita ingresar el número de partidos ganados, perdidos y empatados, de un equipo en un torneo de futbol. Se debe de imprimir el puntaje total del equipo, tenga en cuenta que:\n",
        "  # a. Por cada partido ganado obtendrá 3 puntos.\n",
        "  # b. Por cada partido empatado 1 punto.\n",
        "  # c. Por cada partido perdido 0 puntos.\n",
        "# Se desea imprimir la cantidad de partidos ganados, perdidos, empatados y el cálculo completo de la cantidad de puntos obtenidos del equipo de futbol.\n",
        "\n",
        "def total_points(won, lost, tied):\n",
        "    return (won * 3) + (tied * 1) + (lost * 0)\n",
        "\n",
        "# Puntaje total\n",
        "won = int(input(\"Ingrese la cantidad de partidos ganados: \"))\n",
        "lost = int(input(\"Ingrese la cantidad de partidos perdidos: \"))\n",
        "tied = int(input(\"Ingrese la cantidad de partidos empatados: \"))\n",
        "print(\"El puntaje total del equipo es: \", total_points(won, lost, tied), \"puntos\")\n",
        "print(\"Partidos ganados: \", won)\n",
        "print(\"Partidos perdidos: \", lost)\n",
        "print(\"Partidos empatados: \", tied)"
      ],
      "metadata": {
        "colab": {
          "base_uri": "https://localhost:8080/"
        },
        "id": "m21hTDQ7XG-v",
        "outputId": "893612da-577a-4157-a9a5-ae61bfdede5f"
      },
      "execution_count": null,
      "outputs": [
        {
          "output_type": "stream",
          "name": "stdout",
          "text": [
            "Ingrese la cantidad de partidos ganados: 3\n",
            "Ingrese la cantidad de partidos perdidos: 1\n",
            "Ingrese la cantidad de partidos empatados: 2\n",
            "El puntaje total del equipo es:  11 puntos\n",
            "Partidos ganados:  3\n",
            "Partidos perdidos:  1\n",
            "Partidos empatados:  2\n"
          ]
        }
      ]
    },
    {
      "cell_type": "code",
      "source": [
        "# Se requiere el algoritmo para elaborar la planilla de un empleado. Para ello se debe digitar: nombre del empleado, la cantidad de horas laboradas en el mes y la tarifa por hora. Se debe calcular el total devengado por el empleado en el mes e imprimir: Nombre del empleado, cantidad de horas laboradas y total devengado.\n",
        "\n",
        "def total_earned(name, hours, rate):\n",
        "    return hours * rate\n",
        "\n",
        "# Planilla de empleado\n",
        "name = input(\"Ingrese el nombre del empleado: \")\n",
        "hours = int(input(\"Ingrese la cantidad de horas laboradas en el mes: \"))\n",
        "rate = float(input(\"Ingrese la tarifa por hora: \"))\n",
        "print(\"Nombre del empleado: \", name)\n",
        "print(\"Cantidad de horas laboradas: \", hours)\n",
        "print(\"Total devengado: $ {:.2f}\".format(total_earned(name, hours, rate)))\n"
      ],
      "metadata": {
        "colab": {
          "base_uri": "https://localhost:8080/"
        },
        "id": "XT_xt7yrXrRM",
        "outputId": "fe360569-694a-4f2f-9a98-29730d841625"
      },
      "execution_count": null,
      "outputs": [
        {
          "output_type": "stream",
          "name": "stdout",
          "text": [
            "Ingrese el nombre del empleado: Ruby\n",
            "Ingrese la cantidad de horas laboradas en el mes: 160\n",
            "Ingrese la tarifa por hora: 60000\n",
            "Nombre del empleado:  Ruby\n",
            "Cantidad de horas laboradas:  160\n",
            "Total devengado: $ 9600000.00\n"
          ]
        }
      ]
    },
    {
      "cell_type": "code",
      "source": [
        "# Se tiene un triángulo rectángulo cuyos lados deberán ser digitados por el usuario. Se debe hallar la hipotenusa teniendo en cuenta la formula:\n",
        "# H = raíz cuadrada (a**2 + b**2)\n",
        "\n",
        "import math\n",
        "\n",
        "def hypotenuse(a, b):\n",
        "    return math.sqrt(a**2 + b**2)\n",
        "\n",
        "# Hipotenusa\n",
        "a = float(input(\"Ingrese el valor del primer cateto: \"))\n",
        "b = float(input(\"Ingrese el valor del segundo cateto: \"))\n",
        "print(\"La hipotenusa del triángulo es: \", round(hypotenuse(a, b), 2))"
      ],
      "metadata": {
        "colab": {
          "base_uri": "https://localhost:8080/"
        },
        "id": "up1kcQz2YIqz",
        "outputId": "45a9069c-6864-467b-abb0-f3562efd4306"
      },
      "execution_count": null,
      "outputs": [
        {
          "output_type": "stream",
          "name": "stdout",
          "text": [
            "Ingrese el valor del primer cateto: 20\n",
            "Ingrese el valor del segundo cateto: 30\n",
            "La hipotenusa del triángulo es:  36.06\n"
          ]
        }
      ]
    },
    {
      "cell_type": "code",
      "source": [
        "# Se tiene un horno en casa con temperaturas en grados Celsius centígrado), requiere transformar la temperatura de 70°C a grados Fahrenheit. Para ello tenga en cuenta la siguiente fórmula.\n",
        "# F = (C * 1.8) + 32\n",
        "\n",
        "def celsius_to_fahrenheit(celsius):\n",
        "    return (celsius * 1.8) + 32\n",
        "\n",
        "# Conversión de temperatura\n",
        "celsius = float(input(\"Ingrese la temperatura en grados Celsius: \"))\n",
        "print(\"La temperatura en grados Fahrenheit es: \", celsius_to_fahrenheit(celsius))"
      ],
      "metadata": {
        "colab": {
          "base_uri": "https://localhost:8080/"
        },
        "id": "voq3CcVOYouO",
        "outputId": "fae082f6-4bd4-440d-f2e7-a436191852f4"
      },
      "execution_count": null,
      "outputs": [
        {
          "output_type": "stream",
          "name": "stdout",
          "text": [
            "Ingrese la temperatura en grados Celsius: 100\n",
            "La temperatura en grados Fahrenheit es:  212.0\n"
          ]
        }
      ]
    },
    {
      "cell_type": "markdown",
      "source": [
        "# Actividad 2"
      ],
      "metadata": {
        "id": "vKKKFizKbmYd"
      }
    },
    {
      "cell_type": "code",
      "source": [
        "# Desarrolle un algoritmo que lea un número, en caso de ser negativo lo imprima junto con su positivo.\n",
        "\n",
        "def negative_positive(number):\n",
        "    if number < 0:\n",
        "        print(\"El número es: \", number)\n",
        "        print(\"Su positivo es: \", number * -1)\n",
        "    else:\n",
        "        print(\"El número es: \", number)\n",
        "\n",
        "# Número negativo y su positivo\n",
        "number = int(input(\"Ingrese un número: \"))\n",
        "negative_positive(number)"
      ],
      "metadata": {
        "id": "itP9z1bWbr8y"
      },
      "execution_count": null,
      "outputs": []
    },
    {
      "cell_type": "code",
      "source": [
        "# desarrollar un programa que, dado una calificación de un alumno en un parcial, escribe aprobado si la calificación es superior a 3.\n",
        "\n",
        "def passed(grade):\n",
        "    if grade > 3:\n",
        "        print(\"Aprobado\")\n",
        "    else:\n",
        "        print(\"Reprobado\")\n",
        "\n",
        "# Aprobado o reprobado\n",
        "grade = float(input(\"Ingrese la calificación del alumno: \"))\n",
        "passed(grade)\n"
      ],
      "metadata": {
        "id": "qyMKhCjDcEe1"
      },
      "execution_count": null,
      "outputs": []
    },
    {
      "cell_type": "code",
      "source": [
        "# desarrollar el algoritmo dado como dato el sueldo de un trabajador, le aplica un aumento del 15% si su sueldo es inferior a $300.000.\n",
        "\n",
        "def salary_increase(salary):\n",
        "    if salary < 0:\n",
        "        print(\"Error: El sueldo no puede ser negativo\")\n",
        "    elif salary < 300000:\n",
        "        print(\"El nuevo sueldo es: $ {:.2f}\".format(salary * 1.15))\n",
        "    else:\n",
        "        print(\"El sueldo no tiene aumento\")\n",
        "\n",
        "# Aumento de sueldo\n",
        "salary = float(input(\"Ingrese el sueldo del trabajador: \"))\n",
        "salary_increase(salary)"
      ],
      "metadata": {
        "id": "etgTvYx9eVVD"
      },
      "execution_count": null,
      "outputs": []
    },
    {
      "cell_type": "code",
      "source": [
        "# desarrollar un algoritmo que asigne el sueldo a cinco empleados, teniendo en cuenta su categoría.\n",
        "\n",
        "def salary_category(category):\n",
        "    if category.lower() == \"junior\":\n",
        "        return 300000\n",
        "    elif category.lower() == \"mid\":\n",
        "        return 400000\n",
        "    elif category.lower() == \"senior\":\n",
        "        return 500000\n",
        "    else:\n",
        "        return \"Categoría no válida\"\n",
        "\n",
        "# Sueldo por categoría para cinco empleados\n",
        "for i in range(1, 6):\n",
        "    category = input(f\"Ingrese la categoría del empleado {i} (junior, mid, senior): \")\n",
        "    print(f\"El sueldo del empleado {i} es: {salary_category(category)}\")"
      ],
      "metadata": {
        "id": "KeK0H0QpfiHs"
      },
      "execution_count": null,
      "outputs": []
    },
    {
      "cell_type": "code",
      "source": [
        "# desarrollar un programa que capture tres números e imprima por pantalla cual es el número mayor, el menor, cuales son iguales, si los tres diferentes.\n",
        "\n",
        "def compare_numbers(num1, num2, num3):\n",
        "    if num1 == num2 == num3:\n",
        "        print(\"Los tres números son iguales.\")\n",
        "    else:\n",
        "        if num1 == num2:\n",
        "            print(f\"El número {num1} y el número {num2} son iguales.\")\n",
        "        if num1 == num3:\n",
        "            print(f\"El número {num1} y el número {num3} son iguales.\")\n",
        "        if num2 == num3:\n",
        "            print(f\"El número {num2} y el número {num3} son iguales.\")\n",
        "\n",
        "        if num1 != num2 and num1 != num3 and num2 != num3:\n",
        "            print(\"Los tres números son diferentes.\")\n",
        "\n",
        "        max_num = max(num1, num2, num3)\n",
        "        min_num = min(num1, num2, num3)\n",
        "\n",
        "        print(f\"El número mayor es: {max_num}\")\n",
        "        print(f\"El número menor es: {min_num}\")\n",
        "\n",
        "# Captura de tres números\n",
        "num1 = float(input(\"Ingrese el primer número: \"))\n",
        "num2 = float(input(\"Ingrese el segundo número: \"))\n",
        "num3 = float(input(\"Ingrese el tercer número: \"))\n",
        "\n",
        "compare_numbers(num1, num2, num3)"
      ],
      "metadata": {
        "id": "Rsa-YsUyg52C"
      },
      "execution_count": null,
      "outputs": []
    },
    {
      "cell_type": "code",
      "source": [
        "# Escriba el algoritmo que al capturar un numero entero convierta grados centígrados a kelvin, si captura un numero flotante diga si es mayor a 10.5, y si captura un carácter escriba su nombre.\n",
        "\n",
        "def process_input(value):\n",
        "    try:\n",
        "        # Intentar convertir a entero\n",
        "        int_value = int(value)\n",
        "        kelvin = int_value + 273.15\n",
        "        print(f\"{int_value} grados centígrados son {kelvin} grados Kelvin.\")\n",
        "    except ValueError:\n",
        "        try:\n",
        "            # Intentar convertir a flotante\n",
        "            float_value = float(value)\n",
        "            if float_value > 10.5:\n",
        "                print(f\"El número {float_value} es mayor a 10.5.\")\n",
        "            else:\n",
        "                print(f\"El número {float_value} no es mayor a 10.5.\")\n",
        "        except ValueError:\n",
        "            # Si no es ni entero ni flotante, asumir que es un carácter\n",
        "            print(f\"El carácter '{value}' es un carácter. Su nombre es '{value}'.\")\n",
        "\n",
        "# Captura de entrada\n",
        "value = input(\"Ingrese un valor: \")\n",
        "process_input(value)"
      ],
      "metadata": {
        "id": "8QzY1KR_hKPx"
      },
      "execution_count": null,
      "outputs": []
    },
    {
      "cell_type": "code",
      "source": [
        "# Desarrolle un algoritmo que lea de un registro: el nombre, la edad, el sexo, el estado civil de cualquier persona e imprima el nombre de la persona, si corresponde a un hombre casado mayor de 40 años o a una mujer soltera menor de 50 años.\n",
        "\n",
        "def check_person(name, age, sex, marital_status):\n",
        "    if sex.lower() == \"hombre\" and marital_status.lower() == \"casado\" and age > 40:\n",
        "        print(f\"{name} es un hombre casado mayor de 40 años.\")\n",
        "    elif sex.lower() == \"mujer\" and marital_status.lower() == \"soltera\" and age < 50:\n",
        "        print(f\"{name} es una mujer soltera menor de 50 años.\")\n",
        "    else:\n",
        "        print(f\"{name} no cumple con los criterios especificados.\")\n",
        "\n",
        "# Captura de datos\n",
        "name = input(\"Ingrese el nombre de la persona: \")\n",
        "age = int(input(\"Ingrese la edad de la persona: \"))\n",
        "sex = input(\"Ingrese el sexo de la persona (hombre/mujer): \")\n",
        "marital_status = input(\"Ingrese el estado civil de la persona (soltero/casado): \")\n",
        "\n",
        "check_person(name, age, sex, marital_status)"
      ],
      "metadata": {
        "id": "hfqzueV2hpn0"
      },
      "execution_count": null,
      "outputs": []
    },
    {
      "cell_type": "code",
      "source": [
        "# Prepare un algoritmo que identifique e imprima el número medio de un conjunto de tres números únicos. El número medio es aquel que no es el menor ni el mayor.\n",
        "\n",
        "def middle_number(num1, num2, num3):\n",
        "    if (num1 > num2 and num1 < num3) or (num1 > num3 and num1 < num2):\n",
        "        middle = num1\n",
        "    elif (num2 > num1 and num2 < num3) or (num2 > num3 and num2 < num1):\n",
        "        middle = num2\n",
        "    else:\n",
        "        middle = num3\n",
        "    print(f\"El número medio es: {middle}\")\n",
        "\n",
        "# Captura de tres números únicos\n",
        "num1 = float(input(\"Ingrese el primer número: \"))\n",
        "num2 = float(input(\"Ingrese el segundo número: \"))\n",
        "num3 = float(input(\"Ingrese el tercer número: \"))\n",
        "\n",
        "middle_number(num1, num2, num3)"
      ],
      "metadata": {
        "id": "0abpIIFYh7Ka"
      },
      "execution_count": null,
      "outputs": []
    },
    {
      "cell_type": "code",
      "source": [
        "# Dados tres números enteros únicos, a, b y c. Elabore un algoritmo que los ordene de mayor a menor e imprímalos.\n",
        "\n",
        "def sort_numbers_desc(a, b, c):\n",
        "    numbers = [a, b, c]\n",
        "    numbers.sort(reverse=True)\n",
        "    print(\"Números ordenados de mayor a menor: \", numbers)\n",
        "\n",
        "# Captura de tres números enteros únicos\n",
        "a = int(input(\"Ingrese el primer número entero: \"))\n",
        "b = int(input(\"Ingrese el segundo número entero: \"))\n",
        "c = int(input(\"Ingrese el tercer número entero: \"))\n",
        "\n",
        "sort_numbers_desc(a, b, c)"
      ],
      "metadata": {
        "id": "H1b0pxd2iNPr"
      },
      "execution_count": null,
      "outputs": []
    },
    {
      "cell_type": "code",
      "source": [
        "# A ciertos estudiantes se les dice que su calificación final será el promedio de las dos calificaciones más altas de entre las tres que se han obtenido en el curso. Haga un algoritmo que permita a un estudiante efectuar el cálculo correspondiente a su nota final.\n",
        "\n",
        "def final_grade(grade1, grade2, grade3):\n",
        "    grades = [grade1, grade2, grade3]\n",
        "    grades.sort(reverse=True)\n",
        "    return (grades[0] + grades[1]) / 2\n",
        "\n",
        "# Captura de tres calificaciones\n",
        "grade1 = float(input(\"Ingrese la primera calificación: \"))\n",
        "grade2 = float(input(\"Ingrese la segunda calificación: \"))\n",
        "grade3 = float(input(\"Ingrese la tercera calificación: \"))\n",
        "\n",
        "print(\"La calificación final es: \", final_grade(grade1, grade2, grade3))"
      ],
      "metadata": {
        "id": "oKWarJ3lioaq"
      },
      "execution_count": null,
      "outputs": []
    },
    {
      "cell_type": "code",
      "source": [
        "# Escriba un algoritmo que acepte o rechace una pieza en forma de varilla, para una empresa de acuerdo a los siguientes criterios:\n",
        "# a. Su longitud debe ser mayor de 7.5cm pero no exceder los 9 cm\n",
        "# b. Su diámetro no debe ser menor que 0.5 cm ni mayor de 1.3 cm.\n",
        "# c. Por ningún motivo su masa debe exceder los 5.8 cm\n",
        "# i. Nota: masa = diámetro * longitud / densidad; densidad = 3.5 Gr/cm\n",
        "\n",
        "def check_rod(length, diameter):\n",
        "    density = 3.5  # Gr/cm\n",
        "    mass = diameter * length / density\n",
        "\n",
        "    if 7.5 < length <= 9 and 0.5 <= diameter <= 1.3 and mass <= 5.8:\n",
        "        print(\"La pieza es aceptada.\")\n",
        "    else:\n",
        "        print(\"La pieza es rechazada.\")\n",
        "\n",
        "def get_float_input(prompt):\n",
        "    while True:\n",
        "        try:\n",
        "            return float(input(prompt))\n",
        "        except ValueError:\n",
        "            print(\"Entrada no válida. Por favor, ingrese un número.\")\n",
        "\n",
        "# Captura de datos de la pieza con validación\n",
        "length = get_float_input(\"Ingrese la longitud de la pieza en cm: \")\n",
        "diameter = get_float_input(\"Ingrese el diámetro de la pieza en cm: \")\n",
        "\n",
        "check_rod(length, diameter)"
      ],
      "metadata": {
        "id": "tE7XRRD-kE4o"
      },
      "execution_count": null,
      "outputs": []
    },
    {
      "cell_type": "code",
      "source": [
        "# Un vendedor desea calcular su comisión total sobre las ventas de varios artículos. Al vendedor le corresponde el 3% de comisión sobre artículos cuyo precio es menor de $2.000.oo y el 5% de comisión sobre artículos cuyo precio es de $2000.oo o más. El vendedor hizo 50 ventas y desea saber también cuántas ventas hizo menores de 2000 y cuantas mayores o iguales a 2000.\n",
        "\n",
        "def calculate_commission(sales):\n",
        "    commission = 0\n",
        "    count_below_2000 = 0\n",
        "    count_above_or_equal_2000 = 0\n",
        "\n",
        "    for sale in sales:\n",
        "        if sale < 2000:\n",
        "            commission += sale * 0.03\n",
        "            count_below_2000 += 1\n",
        "        else:\n",
        "            commission += sale * 0.05\n",
        "            count_above_or_equal_2000 += 1\n",
        "\n",
        "    return commission, count_below_2000, count_above_or_equal_2000\n",
        "\n",
        "# Captura de las ventas\n",
        "sales = []\n",
        "for i in range(50):\n",
        "    while True:\n",
        "        try:\n",
        "            sale = float(input(f\"Ingrese el precio del artículo {i+1}: \"))\n",
        "            sales.append(sale)\n",
        "            break\n",
        "        except ValueError:\n",
        "            print(\"Entrada no válida. Por favor, ingrese un número.\")\n",
        "\n",
        "commission, count_below_2000, count_above_or_equal_2000 = calculate_commission(sales)\n",
        "\n",
        "print(f\"Comisión total: ${commission:.2f}\")\n",
        "print(f\"Ventas menores de $2000: {count_below_2000}\")\n",
        "print(f\"Ventas mayores o iguales a $2000: {count_above_or_equal_2000}\")\n",
        "\n",
        "# Alternativa para cantidad de ventas variable\n",
        "\n",
        "# def calculate_commission(sales):\n",
        "#     commission = 0\n",
        "#     count_below_2000 = 0\n",
        "#     count_above_or_equal_2000 = 0\n",
        "\n",
        "#     for sale in sales:\n",
        "#         if sale < 2000:\n",
        "#             commission += sale * 0.03\n",
        "#             count_below_2000 += 1\n",
        "#         else:\n",
        "#             commission += sale * 0.05\n",
        "#             count_above_or_equal_2000 += 1\n",
        "\n",
        "#     return commission, count_below_2000, count_above_or_equal_2000\n",
        "\n",
        "# # Captura de la cantidad de ventas\n",
        "# while True:\n",
        "#     try:\n",
        "#         num_sales = int(input(\"Ingrese la cantidad de artículos vendidos: \"))\n",
        "#         if num_sales <= 0:\n",
        "#             print(\"La cantidad de artículos vendidos debe ser mayor a 0.\")\n",
        "#         else:\n",
        "#             break\n",
        "#     except ValueError:\n",
        "#         print(\"Entrada no válida. Por favor, ingrese un número entero.\")\n",
        "\n",
        "# # Captura de las ventas\n",
        "# sales = []\n",
        "# for i in range(num_sales):\n",
        "#     while True:\n",
        "#         try:\n",
        "#             sale = float(input(f\"Ingrese el precio del artículo {i+1}: \"))\n",
        "#             sales.append(sale)\n",
        "#             break\n",
        "#         except ValueError:\n",
        "#             print(\"Entrada no válida. Por favor, ingrese un número.\")\n",
        "\n",
        "# commission, count_below_2000, count_above_or_equal_2000 = calculate_commission(sales)\n",
        "\n",
        "# print(f\"Comisión total: ${commission:.2f}\")\n",
        "# print(f\"Ventas menores de $2000: {count_below_2000}\")\n",
        "# print(f\"Ventas mayores o iguales a $2000: {count_above_or_equal_2000}\")"
      ],
      "metadata": {
        "id": "YnqeiWizNGIq"
      },
      "execution_count": null,
      "outputs": []
    }
  ]
}